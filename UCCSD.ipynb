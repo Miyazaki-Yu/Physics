{
 "cells": [
  {
   "cell_type": "code",
   "execution_count": 14,
   "id": "681b45d4-be2d-4c3b-8130-4d0a48f71fd9",
   "metadata": {},
   "outputs": [
    {
     "name": "stderr",
     "output_type": "stream",
     "text": [
      "ibmqfactory.load_account:WARNING:2022-02-13 15:26:50,907: Credentials are already in use. The existing account in the session will be replaced.\n"
     ]
    }
   ],
   "source": [
    "import numpy as np\n",
    "\n",
    "# Importing standard Qiskit libraries\n",
    "from qiskit import QuantumCircuit, transpile, Aer, IBMQ\n",
    "from qiskit.tools.jupyter import *\n",
    "from qiskit.visualization import *\n",
    "from ibm_quantum_widgets import *\n",
    "from qiskit.providers.aer import QasmSimulator\n",
    "\n",
    "# Loading your IBM Quantum account(s)\n",
    "provider = IBMQ.load_account()"
   ]
  },
  {
   "cell_type": "code",
   "execution_count": 18,
   "id": "5b4483c3-7840-4feb-ba7c-8bbe84b611da",
   "metadata": {},
   "outputs": [],
   "source": [
    "from qiskit_nature.drivers import UnitsType, Molecule\n",
    "from qiskit_nature.drivers.second_quantization import (\n",
    "    ElectronicStructureDriverType,\n",
    "    ElectronicStructureMoleculeDriver,\n",
    "    \n",
    ")\n",
    "from qiskit_nature.problems.second_quantization import ElectronicStructureProblem\n",
    "\n",
    "molecule = Molecule(\n",
    "    geometry=[[\"H\", [0.0, 0.0, 0.0]], [\"H\", [0.0, 0.0, 0.735]]], charge=0, multiplicity=1\n",
    ")\n",
    "driver = ElectronicStructureMoleculeDriver(\n",
    "    molecule, basis=\"sto3g\", driver_type=ElectronicStructureDriverType.PYSCF\n",
    ")\n",
    "es_problem = ElectronicStructureProblem(driver)\n",
    "second_q_op = es_problem.second_q_ops()"
   ]
  },
  {
   "cell_type": "code",
   "execution_count": 19,
   "id": "d082eb64-ae83-4737-be84-4db0a5920e9c",
   "metadata": {},
   "outputs": [],
   "source": [
    "from qiskit_nature.problems.second_quantization import ElectronicStructureProblem\n",
    "from qiskit_nature.converters.second_quantization import QubitConverter\n",
    "from qiskit_nature.mappers.second_quantization import JordanWignerMapper, ParityMapper"
   ]
  },
  {
   "cell_type": "code",
   "execution_count": 20,
   "id": "afb153aa-2267-44b3-921f-700eb4f5c0a0",
   "metadata": {},
   "outputs": [],
   "source": [
    "from qiskit_nature.circuit.library import UCCSD, HartreeFock\n",
    "from qiskit_nature.converters.second_quantization import QubitConverter\n",
    "from qiskit_nature.mappers.second_quantization import JordanWignerMapper\n",
    "from qiskit.algorithms import VQE\n",
    "\n"
   ]
  },
  {
   "cell_type": "code",
   "execution_count": 21,
   "id": "2d0e4327-678b-43d8-b5b4-d84d019c0190",
   "metadata": {},
   "outputs": [],
   "source": [
    "qubit_converter = QubitConverter(JordanWignerMapper())\n",
    "num_particles=(1,1)\n",
    "num_spin_orbitals=4\n",
    "initial_state=HartreeFock(qubit_converter=qubit_converter, num_particles=num_particles, num_spin_orbitals=num_spin_orbitals,)\n",
    "ansatz = UCCSD(qubit_converter=qubit_converter, num_particles=num_particles, num_spin_orbitals=num_spin_orbitals,initial_state=initial_state)"
   ]
  },
  {
   "cell_type": "code",
   "execution_count": 22,
   "id": "aed50e2e-0824-4206-aed0-108b6a4a0dfb",
   "metadata": {},
   "outputs": [],
   "source": [
    "\n",
    "qubit_op = qubit_converter.convert(second_q_op[0])"
   ]
  },
  {
   "cell_type": "code",
   "execution_count": 29,
   "id": "19ae5fd1-c783-439b-88e3-59ebe2e0b2a4",
   "metadata": {},
   "outputs": [],
   "source": [
    "from qiskit.utils import algorithm_globals\n",
    "from qiskit import Aer\n",
    "from qiskit.utils import QuantumInstance\n",
    "from qiskit.algorithms.optimizers import SLSQP\n",
    "seed = 0\n",
    "algorithm_globals.random_seed = seed\n",
    "qi = QuantumInstance(Aer.get_backend('statevector_simulator'), seed_transpiler=seed, seed_simulator=seed)\n",
    "\n",
    "opt = SLSQP(maxiter=1000)\n",
    "vqe = VQE(ansatz, optimizer=opt, quantum_instance=qi)\n",
    "result = vqe.compute_minimum_eigenvalue(qubit_op)"
   ]
  },
  {
   "cell_type": "code",
   "execution_count": 30,
   "id": "a4d3d352-3481-4a52-9696-453132136473",
   "metadata": {},
   "outputs": [
    {
     "name": "stdout",
     "output_type": "stream",
     "text": [
      "{   'aux_operator_eigenvalues': None,\n",
      "    'cost_function_evals': 10,\n",
      "    'eigenstate': array([-1.36735260e-17-6.99331365e-17j,  1.15230314e-16-3.33959476e-16j,\n",
      "        2.07595753e-17+1.39874446e-17j,  3.48987315e-17+2.97985069e-17j,\n",
      "        4.82746258e-17-2.04501540e-16j,  9.93761070e-01-8.82319992e-19j,\n",
      "       -5.31002585e-08+3.78152211e-17j, -6.73043838e-17+2.50409792e-17j,\n",
      "        2.76459227e-17-2.24942987e-17j,  2.02156981e-08+6.73463070e-18j,\n",
      "       -1.11529976e-01+1.39874379e-17j,  1.38777878e-17+5.13986570e-17j,\n",
      "        1.69474723e-17+1.36735264e-17j, -3.40135084e-16+2.29223892e-17j,\n",
      "        5.32397584e-17-1.01339804e-16j,  4.17161566e-17+2.06124197e-17j]),\n",
      "    'eigenvalue': (-1.8572750301436012+0j),\n",
      "    'optimal_parameters': {   ParameterVectorElement(t[0]): 5.3100258533882936e-08,\n",
      "                              ParameterVectorElement(t[1]): -2.0215698160534307e-08,\n",
      "                              ParameterVectorElement(t[2]): 0.11176249869600033},\n",
      "    'optimal_point': array([ 5.31002585e-08, -2.02156982e-08,  1.11762499e-01]),\n",
      "    'optimal_value': -1.8572750301436012,\n",
      "    'optimizer_evals': None,\n",
      "    'optimizer_time': 0.18168854713439941}\n"
     ]
    }
   ],
   "source": [
    "print(result)"
   ]
  },
  {
   "cell_type": "code",
   "execution_count": null,
   "id": "71d346ad-6321-495b-92cf-537e7e2a5c5e",
   "metadata": {},
   "outputs": [],
   "source": []
  }
 ],
 "metadata": {
  "kernelspec": {
   "display_name": "Qiskit v0.34.2 (ipykernel)",
   "language": "python",
   "name": "python3"
  },
  "language_info": {
   "codemirror_mode": {
    "name": "ipython",
    "version": 3
   },
   "file_extension": ".py",
   "mimetype": "text/x-python",
   "name": "python",
   "nbconvert_exporter": "python",
   "pygments_lexer": "ipython3",
   "version": "3.8.12"
  },
  "widgets": {
   "application/vnd.jupyter.widget-state+json": {
    "state": {
     "00828a93c3d54a088aa0cb701a8413e3": {
      "model_module": "@jupyter-widgets/controls",
      "model_module_version": "1.5.0",
      "model_name": "GridBoxModel",
      "state": {
       "children": [
        "IPY_MODEL_d0e35eb441b842a5a3c8805ecb105bca"
       ],
       "layout": "IPY_MODEL_5624c6ef37d24d8db88243787af13135"
      }
     },
     "0474ab6b89ed4a1781fa9c05840afb5d": {
      "model_module": "@jupyter-widgets/controls",
      "model_module_version": "1.5.0",
      "model_name": "DescriptionStyleModel",
      "state": {
       "description_width": ""
      }
     },
     "0f8a80b48d914e25919cbe839ca9e37c": {
      "model_module": "@jupyter-widgets/controls",
      "model_module_version": "1.5.0",
      "model_name": "DescriptionStyleModel",
      "state": {
       "description_width": ""
      }
     },
     "2f9231aa423d419497bef06296ba155b": {
      "model_module": "@jupyter-widgets/controls",
      "model_module_version": "1.5.0",
      "model_name": "ButtonStyleModel",
      "state": {}
     },
     "33b4a16ccfc546e1b30d1578d6c33e5f": {
      "model_module": "@jupyter-widgets/base",
      "model_module_version": "1.2.0",
      "model_name": "LayoutModel",
      "state": {
       "margin": "0px 0px 10px 0px"
      }
     },
     "4a2018298afd4d72939d28e9d6a33ac2": {
      "model_module": "@jupyter-widgets/base",
      "model_module_version": "1.2.0",
      "model_name": "LayoutModel",
      "state": {
       "width": "190px"
      }
     },
     "51052adeeac84071b3c8af004462c4b1": {
      "model_module": "@jupyter-widgets/base",
      "model_module_version": "1.2.0",
      "model_name": "LayoutModel",
      "state": {
       "width": "95px"
      }
     },
     "5624c6ef37d24d8db88243787af13135": {
      "model_module": "@jupyter-widgets/base",
      "model_module_version": "1.2.0",
      "model_name": "LayoutModel",
      "state": {
       "grid_template_areas": "\n                                       \". . . . right \"\n                                        ",
       "grid_template_columns": "20% 20% 20% 20% 20%",
       "width": "100%"
      }
     },
     "5d944d15cd4949dea5675f2e505e0f37": {
      "model_module": "@jupyter-widgets/controls",
      "model_module_version": "1.5.0",
      "model_name": "HTMLModel",
      "state": {
       "layout": "IPY_MODEL_33b4a16ccfc546e1b30d1578d6c33e5f",
       "style": "IPY_MODEL_c015baed6a0f4ca08e8bb375d1f62151",
       "value": "<p style='font-family: IBM Plex Sans, Arial, Helvetica, sans-serif; font-size: 20px; font-weight: medium;'>Circuit Properties</p>"
      }
     },
     "5da91a7a40654c4faf4cf791141427a8": {
      "model_module": "@jupyter-widgets/controls",
      "model_module_version": "1.5.0",
      "model_name": "HTMLModel",
      "state": {
       "layout": "IPY_MODEL_83490b79aea54ac785fd5e44ece99bb1",
       "style": "IPY_MODEL_fd962e8a560d47bca7c469a7f39d4d16",
       "value": "<h5>Message</h5>"
      }
     },
     "6a1f73d6ad584fc9b0f27a15f1787966": {
      "model_module": "@jupyter-widgets/controls",
      "model_module_version": "1.5.0",
      "model_name": "HTMLModel",
      "state": {
       "layout": "IPY_MODEL_9d70a8c9602a4958bbe5ad9fd9b0700d",
       "style": "IPY_MODEL_0474ab6b89ed4a1781fa9c05840afb5d",
       "value": "<h5>Backend</h5>"
      }
     },
     "83490b79aea54ac785fd5e44ece99bb1": {
      "model_module": "@jupyter-widgets/base",
      "model_module_version": "1.2.0",
      "model_name": "LayoutModel",
      "state": {}
     },
     "8510626d777c4f42b6daf888a7939e8d": {
      "model_module": "@jupyter-widgets/controls",
      "model_module_version": "1.5.0",
      "model_name": "HTMLModel",
      "state": {
       "layout": "IPY_MODEL_51052adeeac84071b3c8af004462c4b1",
       "style": "IPY_MODEL_947f309f565549d38725ec68544dfc35",
       "value": "<h5>Status</h5>"
      }
     },
     "8a7d87071ae549f1a72351dde61df589": {
      "model_module": "@jupyter-widgets/base",
      "model_module_version": "1.2.0",
      "model_name": "LayoutModel",
      "state": {
       "grid_area": "right",
       "padding": "0px 0px 0px 0px",
       "width": "70px"
      }
     },
     "8e183ff91f7147f1b47d6169f0f8b31e": {
      "model_module": "@jupyter-widgets/controls",
      "model_module_version": "1.5.0",
      "model_name": "DescriptionStyleModel",
      "state": {
       "description_width": ""
      }
     },
     "947f309f565549d38725ec68544dfc35": {
      "model_module": "@jupyter-widgets/controls",
      "model_module_version": "1.5.0",
      "model_name": "DescriptionStyleModel",
      "state": {
       "description_width": ""
      }
     },
     "9d70a8c9602a4958bbe5ad9fd9b0700d": {
      "model_module": "@jupyter-widgets/base",
      "model_module_version": "1.2.0",
      "model_name": "LayoutModel",
      "state": {
       "width": "145px"
      }
     },
     "af6735eeb6354d65abb60c9ffa636f6c": {
      "model_module": "@jupyter-widgets/controls",
      "model_module_version": "1.5.0",
      "model_name": "HBoxModel",
      "state": {
       "children": [
        "IPY_MODEL_b3deee61b4af4bc1acb030493eb664bb",
        "IPY_MODEL_6a1f73d6ad584fc9b0f27a15f1787966",
        "IPY_MODEL_8510626d777c4f42b6daf888a7939e8d",
        "IPY_MODEL_cf0ccf8ce09742e780311a9fceb33fe6",
        "IPY_MODEL_5da91a7a40654c4faf4cf791141427a8"
       ],
       "layout": "IPY_MODEL_b811a6e3405b4e97b44f50131645e4da"
      }
     },
     "b3deee61b4af4bc1acb030493eb664bb": {
      "model_module": "@jupyter-widgets/controls",
      "model_module_version": "1.5.0",
      "model_name": "HTMLModel",
      "state": {
       "layout": "IPY_MODEL_4a2018298afd4d72939d28e9d6a33ac2",
       "style": "IPY_MODEL_8e183ff91f7147f1b47d6169f0f8b31e",
       "value": "<h5>Job ID</h5>"
      }
     },
     "b811a6e3405b4e97b44f50131645e4da": {
      "model_module": "@jupyter-widgets/base",
      "model_module_version": "1.2.0",
      "model_name": "LayoutModel",
      "state": {
       "margin": "0px 0px 0px 37px",
       "width": "600px"
      }
     },
     "c015baed6a0f4ca08e8bb375d1f62151": {
      "model_module": "@jupyter-widgets/controls",
      "model_module_version": "1.5.0",
      "model_name": "DescriptionStyleModel",
      "state": {
       "description_width": ""
      }
     },
     "cf0ccf8ce09742e780311a9fceb33fe6": {
      "model_module": "@jupyter-widgets/controls",
      "model_module_version": "1.5.0",
      "model_name": "HTMLModel",
      "state": {
       "layout": "IPY_MODEL_fb5a93708bf8416d88322f9b22d2a4fd",
       "style": "IPY_MODEL_0f8a80b48d914e25919cbe839ca9e37c",
       "value": "<h5>Queue</h5>"
      }
     },
     "d0e35eb441b842a5a3c8805ecb105bca": {
      "model_module": "@jupyter-widgets/controls",
      "model_module_version": "1.5.0",
      "model_name": "ButtonModel",
      "state": {
       "button_style": "primary",
       "description": "Clear",
       "layout": "IPY_MODEL_8a7d87071ae549f1a72351dde61df589",
       "style": "IPY_MODEL_2f9231aa423d419497bef06296ba155b"
      }
     },
     "fb5a93708bf8416d88322f9b22d2a4fd": {
      "model_module": "@jupyter-widgets/base",
      "model_module_version": "1.2.0",
      "model_name": "LayoutModel",
      "state": {
       "width": "70px"
      }
     },
     "fd962e8a560d47bca7c469a7f39d4d16": {
      "model_module": "@jupyter-widgets/controls",
      "model_module_version": "1.5.0",
      "model_name": "DescriptionStyleModel",
      "state": {
       "description_width": ""
      }
     }
    },
    "version_major": 2,
    "version_minor": 0
   }
  }
 },
 "nbformat": 4,
 "nbformat_minor": 5
}
